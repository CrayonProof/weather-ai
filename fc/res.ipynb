{
 "cells": [
  {
   "cell_type": "code",
   "execution_count": 1,
   "metadata": {},
   "outputs": [],
   "source": [
    "import torch\n",
    "import torch.nn as nn\n",
    "import torch.optim as optim\n",
    "from torch.utils.data import Dataset, DataLoader\n",
    "import numpy as np\n",
    "from tqdm.notebook import tqdm as tqdm\n",
    "import pdb\n",
    "import pandas as pd\n",
    "import matplotlib.pyplot as plt\n",
    "import torchvision.models as models\n",
    "from IPython.display import clear_output\n",
    "\n",
    "path_to_data = '../Inputs-Targets.csv'"
   ]
  },
  {
   "cell_type": "code",
   "execution_count": 2,
   "metadata": {},
   "outputs": [],
   "source": [
    "class WeatherDataset(Dataset):\n",
    "    def __init__(self, csv_file, train=True):\n",
    "        # Make 80/20 test training split without preserving order\n",
    "        self.data = pd.read_csv(csv_file)\n",
    "        # If the model is trained in multiple sessions,\n",
    "        # test and training data will not be consistent\n",
    "        self.data = self.data.sample(frac=1).reset_index(drop=True)\n",
    "        self.train = self.data.iloc[:int(len(self.data)*0.8)]\n",
    "        self.test = self.data.iloc[int(len(self.data)*0.8):]\n",
    "        if train:\n",
    "            self.data = self.train \n",
    "        else:   \n",
    "            self.data = self.test\n",
    "\n",
    "    def __len__(self):\n",
    "        return len(self.data)\n",
    "\n",
    "    def __getitem__(self, i):\n",
    "        # Return row as tensor\n",
    "        x = torch.tensor(self.data.iloc[i][1:69])\n",
    "        y = torch.tensor(self.data.iloc[i][69:72]).to(torch.float64)\n",
    "        return x, y\n",
    "        # return torch.tensor(self.data.iloc[i])"
   ]
  },
  {
   "cell_type": "code",
   "execution_count": 3,
   "metadata": {},
   "outputs": [
    {
     "name": "stdout",
     "output_type": "stream",
     "text": [
      "43635\n",
      "torch.Size([4, 68])\n",
      "torch.Size([4, 3])\n",
      "10909\n",
      "torch.Size([4, 68])\n",
      "torch.Size([4, 3])\n"
     ]
    }
   ],
   "source": [
    "# Test dataset class\n",
    "\n",
    "t_data = WeatherDataset(path_to_data)\n",
    "t_dataloader = DataLoader(t_data, batch_size=4, shuffle=True)\n",
    "print(len(t_dataloader.dataset))\n",
    "for batch in t_dataloader:\n",
    "    x, y = batch\n",
    "    print(x.shape)\n",
    "    print(y.shape)\n",
    "    break\n",
    "\n",
    "v_data = WeatherDataset(path_to_data, train=False)\n",
    "v_dataloader = DataLoader(v_data, batch_size=4, shuffle=True)\n",
    "print(len(v_dataloader.dataset))\n",
    "for batch in t_dataloader:\n",
    "    x, y = batch\n",
    "    print(x.shape)\n",
    "    print(y.shape)\n",
    "    break"
   ]
  },
  {
   "cell_type": "code",
   "execution_count": 4,
   "metadata": {},
   "outputs": [
    {
     "name": "stderr",
     "output_type": "stream",
     "text": [
      "/Users/matthewgabbitas/opt/anaconda3/envs/cs474/lib/python3.7/site-packages/torchvision/models/_utils.py:209: UserWarning: The parameter 'pretrained' is deprecated since 0.13 and may be removed in the future, please use 'weights' instead.\n",
      "  f\"The parameter '{pretrained_param}' is deprecated since 0.13 and may be removed in the future, \"\n",
      "/Users/matthewgabbitas/opt/anaconda3/envs/cs474/lib/python3.7/site-packages/torchvision/models/_utils.py:223: UserWarning: Arguments other than a weight enum or `None` for 'weights' are deprecated since 0.13 and may be removed in the future. The current behavior is equivalent to passing `weights=ResNet50_Weights.IMAGENET1K_V1`. You can also use `weights=ResNet50_Weights.DEFAULT` to get the most up-to-date weights.\n",
      "  warnings.warn(msg)\n"
     ]
    }
   ],
   "source": [
    "resnet = models.resnet50(pretrained=True)\n",
    "\n",
    "# Define trivial model\n",
    "class WeatherModel(nn.Module):\n",
    "    def __init__(self):\n",
    "        super(WeatherModel, self).__init__()\n",
    "        self.fc1 = nn.Linear(68, 256, dtype=torch.float64)\n",
    "        self.fc2 = nn.Linear(256, 256, dtype=torch.float64)\n",
    "        self.fc3 = nn.Linear(256, 256, dtype=torch.float64)\n",
    "        self.fc4 = nn.Linear(512, 256, dtype=torch.float64)\n",
    "        self.fcf = nn.Linear(256, 3, dtype=torch.float64)\n",
    "\n",
    "    def forward(self, x):\n",
    "        x = torch.relu(self.fc1(x))\n",
    "        x_prime = torch.relu(self.fc2(x))\n",
    "        x = torch.relu(torch.cat([self.fc3(x_prime), x_prime], dim=1))\n",
    "        x = torch.relu(self.fc4(x))\n",
    "        return self.fcf(x)\n",
    "\n",
    "# Define resnet model\n",
    "class Res50Model(nn.Module):\n",
    "    def __init__(self):\n",
    "        super(Res50Model, self).__init__()\n",
    "        self.input_layer = nn.Linear(68, 224 * 224 * 3, dtype=torch.float64)\n",
    "        self.resnet = resnet.double()\n",
    "        self.output_layer = nn.Linear(1000, 3, dtype=torch.float64)\n",
    "\n",
    "    def forward(self, x):\n",
    "        x = self.input_layer(x)\n",
    "        x = x.view(-1, 3, 224, 224)\n",
    "        x = self.resnet(x)\n",
    "        x = self.output_layer(x)\n",
    "        return x"
   ]
  },
  {
   "cell_type": "code",
   "execution_count": 5,
   "metadata": {},
   "outputs": [],
   "source": [
    "BATCH_SIZE = 4\n",
    "UPDATE_STATUS_EVERY = 200\n",
    "\n",
    "# Make train and test datasets\n",
    "train_data = WeatherDataset(path_to_data, train=True)\n",
    "test_data = WeatherDataset(path_to_data, train=False)\n",
    "# Initialize dataloaders\n",
    "train_dataloader = DataLoader(train_data, batch_size=BATCH_SIZE, shuffle=True, num_workers=2)\n",
    "test_dataloader = DataLoader(test_data, batch_size=BATCH_SIZE, shuffle=True, num_workers=2)"
   ]
  },
  {
   "cell_type": "code",
   "execution_count": 6,
   "metadata": {},
   "outputs": [],
   "source": [
    "def cache_session(model, path='model.pt', stat_dict={}):\n",
    "    torch.save(model.state_dict(), path)\n",
    "    torch.save(stat_dict, 'stat_dict.pt')\n",
    "\n",
    "\n",
    "def restore_session(model, model_path='model.pt', stat_dict_path='stat_dict.pt'):\n",
    "   # Restore model and stats from cache if available, else initialize new model and stats\n",
    "    try:\n",
    "        model.load_state_dict(torch.load(model_path))\n",
    "        stat_dict = torch.load(stat_dict_path)\n",
    "        losses = stat_dict['losses']\n",
    "        window_losses = stat_dict['window_losses']\n",
    "        val_losses = stat_dict['val_losses']\n",
    "        epoch_num = stat_dict['epoch_num']\n",
    "        print('Restored session from cache at epoch {}'.format(epoch_num))\n",
    "    except:\n",
    "        losses = []\n",
    "        window_losses = []\n",
    "        val_losses = []\n",
    "        epoch_num = 0\n",
    "        print('Unable to restore. Initialized new model and new session')\n",
    "    return model, epoch_num, losses, window_losses, val_losses\n",
    "\n",
    "def plot_loss(losses, loss_indices):\n",
    "  for i, l in enumerate(losses):\n",
    "    loss_label = l[0]\n",
    "    loss_x = loss_indices[i]\n",
    "    loss_y = l[1]\n",
    "    plt.plot(loss_x, loss_y, label=loss_label)\n",
    "  plt.legend()\n",
    "  plt.ylabel('Loss')\n",
    "  plt.xlabel('Batches')\n",
    "  plt.show()"
   ]
  },
  {
   "cell_type": "code",
   "execution_count": 16,
   "metadata": {},
   "outputs": [
    {
     "data": {
      "application/vnd.jupyter.widget-view+json": {
       "model_id": "da8a2d7e1dbf4766ab1193a1adeb066f",
       "version_major": 2,
       "version_minor": 0
      },
      "text/plain": [
       "  0%|          | 0/100 [00:00<?, ?it/s]"
      ]
     },
     "metadata": {},
     "output_type": "display_data"
    },
    {
     "data": {
      "application/vnd.jupyter.widget-view+json": {
       "model_id": "6c141c0ee386480180ac19344b45366c",
       "version_major": 2,
       "version_minor": 0
      },
      "text/plain": [
       "  0%|          | 0/10909 [00:00<?, ?it/s]"
      ]
     },
     "metadata": {},
     "output_type": "display_data"
    },
    {
     "data": {
      "image/png": "[encoded data removed]",
      "text/plain": [
       "<Figure size 640x480 with 1 Axes>"
      ]
     },
     "metadata": {},
     "output_type": "display_data"
    },
    {
     "ename": "KeyboardInterrupt",
     "evalue": "",
     "output_type": "error",
     "traceback": [
      "\u001b[0;31m---------------------------------------------------------------------------\u001b[0m",
      "\u001b[0;31mKeyboardInterrupt\u001b[0m                         Traceback (most recent call last)",
      "\u001b[0;32m/var/folders/9p/y2rzcrdx3dx2kysw5pm_jz3c0000gn/T/ipykernel_1042/1805807368.py\u001b[0m in \u001b[0;36m<module>\u001b[0;34m\u001b[0m\n\u001b[1;32m     85\u001b[0m \u001b[0;32melse\u001b[0m\u001b[0;34m:\u001b[0m\u001b[0;34m\u001b[0m\u001b[0;34m\u001b[0m\u001b[0m\n\u001b[1;32m     86\u001b[0m     \u001b[0mprint\u001b[0m\u001b[0;34m(\u001b[0m\u001b[0;34m'Initialized new model and new session'\u001b[0m\u001b[0;34m)\u001b[0m\u001b[0;34m\u001b[0m\u001b[0;34m\u001b[0m\u001b[0m\n\u001b[0;32m---> 87\u001b[0;31m     \u001b[0mtrain\u001b[0m\u001b[0;34m(\u001b[0m\u001b[0mEPOCHS\u001b[0m\u001b[0;34m,\u001b[0m \u001b[0mmodel\u001b[0m\u001b[0;34m)\u001b[0m\u001b[0;34m\u001b[0m\u001b[0;34m\u001b[0m\u001b[0m\n\u001b[0m",
      "\u001b[0;32m/var/folders/9p/y2rzcrdx3dx2kysw5pm_jz3c0000gn/T/ipykernel_1042/1805807368.py\u001b[0m in \u001b[0;36mtrain\u001b[0;34m(epochs, model, epoch_num, losses_tuple, window_losses_tuple, val_losses_tuple)\u001b[0m\n\u001b[1;32m     38\u001b[0m             \u001b[0mloss\u001b[0m \u001b[0;34m=\u001b[0m \u001b[0mcriterion\u001b[0m\u001b[0;34m(\u001b[0m\u001b[0my_pred\u001b[0m\u001b[0;34m,\u001b[0m \u001b[0my\u001b[0m\u001b[0;34m)\u001b[0m\u001b[0;34m\u001b[0m\u001b[0;34m\u001b[0m\u001b[0m\n\u001b[1;32m     39\u001b[0m             \u001b[0mloss\u001b[0m\u001b[0;34m.\u001b[0m\u001b[0mbackward\u001b[0m\u001b[0;34m(\u001b[0m\u001b[0;34m)\u001b[0m\u001b[0;34m\u001b[0m\u001b[0;34m\u001b[0m\u001b[0m\n\u001b[0;32m---> 40\u001b[0;31m             \u001b[0moptimizer\u001b[0m\u001b[0;34m.\u001b[0m\u001b[0mstep\u001b[0m\u001b[0;34m(\u001b[0m\u001b[0;34m)\u001b[0m\u001b[0;34m\u001b[0m\u001b[0;34m\u001b[0m\u001b[0m\n\u001b[0m\u001b[1;32m     41\u001b[0m             \u001b[0mloss_indices\u001b[0m\u001b[0;34m.\u001b[0m\u001b[0mappend\u001b[0m\u001b[0;34m(\u001b[0m\u001b[0mtotal_batch_index\u001b[0m\u001b[0;34m)\u001b[0m\u001b[0;34m\u001b[0m\u001b[0;34m\u001b[0m\u001b[0m\n\u001b[1;32m     42\u001b[0m             \u001b[0mlosses\u001b[0m\u001b[0;34m.\u001b[0m\u001b[0mappend\u001b[0m\u001b[0;34m(\u001b[0m\u001b[0mloss\u001b[0m\u001b[0;34m.\u001b[0m\u001b[0mitem\u001b[0m\u001b[0;34m(\u001b[0m\u001b[0;34m)\u001b[0m\u001b[0;34m)\u001b[0m\u001b[0;34m\u001b[0m\u001b[0;34m\u001b[0m\u001b[0m\n",
      "\u001b[0;32m~/opt/anaconda3/envs/cs474/lib/python3.7/site-packages/torch/optim/optimizer.py\u001b[0m in \u001b[0;36mwrapper\u001b[0;34m(*args, **kwargs)\u001b[0m\n\u001b[1;32m    138\u001b[0m                 \u001b[0mprofile_name\u001b[0m \u001b[0;34m=\u001b[0m \u001b[0;34m\"Optimizer.step#{}.step\"\u001b[0m\u001b[0;34m.\u001b[0m\u001b[0mformat\u001b[0m\u001b[0;34m(\u001b[0m\u001b[0mobj\u001b[0m\u001b[0;34m.\u001b[0m\u001b[0m__class__\u001b[0m\u001b[0;34m.\u001b[0m\u001b[0m__name__\u001b[0m\u001b[0;34m)\u001b[0m\u001b[0;34m\u001b[0m\u001b[0;34m\u001b[0m\u001b[0m\n\u001b[1;32m    139\u001b[0m                 \u001b[0;32mwith\u001b[0m \u001b[0mtorch\u001b[0m\u001b[0;34m.\u001b[0m\u001b[0mautograd\u001b[0m\u001b[0;34m.\u001b[0m\u001b[0mprofiler\u001b[0m\u001b[0;34m.\u001b[0m\u001b[0mrecord_function\u001b[0m\u001b[0;34m(\u001b[0m\u001b[0mprofile_name\u001b[0m\u001b[0;34m)\u001b[0m\u001b[0;34m:\u001b[0m\u001b[0;34m\u001b[0m\u001b[0;34m\u001b[0m\u001b[0m\n\u001b[0;32m--> 140\u001b[0;31m                     \u001b[0mout\u001b[0m \u001b[0;34m=\u001b[0m \u001b[0mfunc\u001b[0m\u001b[0;34m(\u001b[0m\u001b[0;34m*\u001b[0m\u001b[0margs\u001b[0m\u001b[0;34m,\u001b[0m \u001b[0;34m**\u001b[0m\u001b[0mkwargs\u001b[0m\u001b[0;34m)\u001b[0m\u001b[0;34m\u001b[0m\u001b[0;34m\u001b[0m\u001b[0m\n\u001b[0m\u001b[1;32m    141\u001b[0m                     \u001b[0mobj\u001b[0m\u001b[0;34m.\u001b[0m\u001b[0m_optimizer_step_code\u001b[0m\u001b[0;34m(\u001b[0m\u001b[0;34m)\u001b[0m\u001b[0;34m\u001b[0m\u001b[0;34m\u001b[0m\u001b[0m\n\u001b[1;32m    142\u001b[0m                     \u001b[0;32mreturn\u001b[0m \u001b[0mout\u001b[0m\u001b[0;34m\u001b[0m\u001b[0;34m\u001b[0m\u001b[0m\n",
      "\u001b[0;32m~/opt/anaconda3/envs/cs474/lib/python3.7/site-packages/torch/optim/optimizer.py\u001b[0m in \u001b[0;36m_use_grad\u001b[0;34m(self, *args, **kwargs)\u001b[0m\n\u001b[1;32m     21\u001b[0m         \u001b[0;32mtry\u001b[0m\u001b[0;34m:\u001b[0m\u001b[0;34m\u001b[0m\u001b[0;34m\u001b[0m\u001b[0m\n\u001b[1;32m     22\u001b[0m             \u001b[0mtorch\u001b[0m\u001b[0;34m.\u001b[0m\u001b[0mset_grad_enabled\u001b[0m\u001b[0;34m(\u001b[0m\u001b[0mself\u001b[0m\u001b[0;34m.\u001b[0m\u001b[0mdefaults\u001b[0m\u001b[0;34m[\u001b[0m\u001b[0;34m'differentiable'\u001b[0m\u001b[0;34m]\u001b[0m\u001b[0;34m)\u001b[0m\u001b[0;34m\u001b[0m\u001b[0;34m\u001b[0m\u001b[0m\n\u001b[0;32m---> 23\u001b[0;31m             \u001b[0mret\u001b[0m \u001b[0;34m=\u001b[0m \u001b[0mfunc\u001b[0m\u001b[0;34m(\u001b[0m\u001b[0mself\u001b[0m\u001b[0;34m,\u001b[0m \u001b[0;34m*\u001b[0m\u001b[0margs\u001b[0m\u001b[0;34m,\u001b[0m \u001b[0;34m**\u001b[0m\u001b[0mkwargs\u001b[0m\u001b[0;34m)\u001b[0m\u001b[0;34m\u001b[0m\u001b[0;34m\u001b[0m\u001b[0m\n\u001b[0m\u001b[1;32m     24\u001b[0m         \u001b[0;32mfinally\u001b[0m\u001b[0;34m:\u001b[0m\u001b[0;34m\u001b[0m\u001b[0;34m\u001b[0m\u001b[0m\n\u001b[1;32m     25\u001b[0m             \u001b[0mtorch\u001b[0m\u001b[0;34m.\u001b[0m\u001b[0mset_grad_enabled\u001b[0m\u001b[0;34m(\u001b[0m\u001b[0mprev_grad\u001b[0m\u001b[0;34m)\u001b[0m\u001b[0;34m\u001b[0m\u001b[0;34m\u001b[0m\u001b[0m\n",
      "\u001b[0;32m~/opt/anaconda3/envs/cs474/lib/python3.7/site-packages/torch/optim/adam.py\u001b[0m in \u001b[0;36mstep\u001b[0;34m(self, closure, grad_scaler)\u001b[0m\n\u001b[1;32m    250\u001b[0m                  \u001b[0mfused\u001b[0m\u001b[0;34m=\u001b[0m\u001b[0mgroup\u001b[0m\u001b[0;34m[\u001b[0m\u001b[0;34m'fused'\u001b[0m\u001b[0;34m]\u001b[0m\u001b[0;34m,\u001b[0m\u001b[0;34m\u001b[0m\u001b[0;34m\u001b[0m\u001b[0m\n\u001b[1;32m    251\u001b[0m                  \u001b[0mgrad_scale\u001b[0m\u001b[0;34m=\u001b[0m\u001b[0mgrad_scale\u001b[0m\u001b[0;34m,\u001b[0m\u001b[0;34m\u001b[0m\u001b[0;34m\u001b[0m\u001b[0m\n\u001b[0;32m--> 252\u001b[0;31m                  found_inf=found_inf)\n\u001b[0m\u001b[1;32m    253\u001b[0m \u001b[0;34m\u001b[0m\u001b[0m\n\u001b[1;32m    254\u001b[0m         \u001b[0;32mreturn\u001b[0m \u001b[0mloss\u001b[0m\u001b[0;34m\u001b[0m\u001b[0;34m\u001b[0m\u001b[0m\n",
      "\u001b[0;32m~/opt/anaconda3/envs/cs474/lib/python3.7/site-packages/torch/optim/adam.py\u001b[0m in \u001b[0;36madam\u001b[0;34m(params, grads, exp_avgs, exp_avg_sqs, max_exp_avg_sqs, state_steps, foreach, capturable, differentiable, fused, grad_scale, found_inf, amsgrad, beta1, beta2, lr, weight_decay, eps, maximize)\u001b[0m\n\u001b[1;32m    314\u001b[0m          \u001b[0mdifferentiable\u001b[0m\u001b[0;34m=\u001b[0m\u001b[0mdifferentiable\u001b[0m\u001b[0;34m,\u001b[0m\u001b[0;34m\u001b[0m\u001b[0;34m\u001b[0m\u001b[0m\n\u001b[1;32m    315\u001b[0m          \u001b[0mgrad_scale\u001b[0m\u001b[0;34m=\u001b[0m\u001b[0mgrad_scale\u001b[0m\u001b[0;34m,\u001b[0m\u001b[0;34m\u001b[0m\u001b[0;34m\u001b[0m\u001b[0m\n\u001b[0;32m--> 316\u001b[0;31m          found_inf=found_inf)\n\u001b[0m\u001b[1;32m    317\u001b[0m \u001b[0;34m\u001b[0m\u001b[0m\n\u001b[1;32m    318\u001b[0m \u001b[0;34m\u001b[0m\u001b[0m\n",
      "\u001b[0;32m~/opt/anaconda3/envs/cs474/lib/python3.7/site-packages/torch/optim/adam.py\u001b[0m in \u001b[0;36m_single_tensor_adam\u001b[0;34m(params, grads, exp_avgs, exp_avg_sqs, max_exp_avg_sqs, state_steps, grad_scale, found_inf, amsgrad, beta1, beta2, lr, weight_decay, eps, maximize, capturable, differentiable)\u001b[0m\n\u001b[1;32m    408\u001b[0m                 \u001b[0mdenom\u001b[0m \u001b[0;34m=\u001b[0m \u001b[0;34m(\u001b[0m\u001b[0mmax_exp_avg_sqs\u001b[0m\u001b[0;34m[\u001b[0m\u001b[0mi\u001b[0m\u001b[0;34m]\u001b[0m\u001b[0;34m.\u001b[0m\u001b[0msqrt\u001b[0m\u001b[0;34m(\u001b[0m\u001b[0;34m)\u001b[0m \u001b[0;34m/\u001b[0m \u001b[0mbias_correction2_sqrt\u001b[0m\u001b[0;34m)\u001b[0m\u001b[0;34m.\u001b[0m\u001b[0madd_\u001b[0m\u001b[0;34m(\u001b[0m\u001b[0meps\u001b[0m\u001b[0;34m)\u001b[0m\u001b[0;34m\u001b[0m\u001b[0;34m\u001b[0m\u001b[0m\n\u001b[1;32m    409\u001b[0m             \u001b[0;32melse\u001b[0m\u001b[0;34m:\u001b[0m\u001b[0;34m\u001b[0m\u001b[0;34m\u001b[0m\u001b[0m\n\u001b[0;32m--> 410\u001b[0;31m                 \u001b[0mdenom\u001b[0m \u001b[0;34m=\u001b[0m \u001b[0;34m(\u001b[0m\u001b[0mexp_avg_sq\u001b[0m\u001b[0;34m.\u001b[0m\u001b[0msqrt\u001b[0m\u001b[0;34m(\u001b[0m\u001b[0;34m)\u001b[0m \u001b[0;34m/\u001b[0m \u001b[0mbias_correction2_sqrt\u001b[0m\u001b[0;34m)\u001b[0m\u001b[0;34m.\u001b[0m\u001b[0madd_\u001b[0m\u001b[0;34m(\u001b[0m\u001b[0meps\u001b[0m\u001b[0;34m)\u001b[0m\u001b[0;34m\u001b[0m\u001b[0;34m\u001b[0m\u001b[0m\n\u001b[0m\u001b[1;32m    411\u001b[0m \u001b[0;34m\u001b[0m\u001b[0m\n\u001b[1;32m    412\u001b[0m             \u001b[0mparam\u001b[0m\u001b[0;34m.\u001b[0m\u001b[0maddcdiv_\u001b[0m\u001b[0;34m(\u001b[0m\u001b[0mexp_avg\u001b[0m\u001b[0;34m,\u001b[0m \u001b[0mdenom\u001b[0m\u001b[0;34m,\u001b[0m \u001b[0mvalue\u001b[0m\u001b[0;34m=\u001b[0m\u001b[0;34m-\u001b[0m\u001b[0mstep_size\u001b[0m\u001b[0;34m)\u001b[0m\u001b[0;34m\u001b[0m\u001b[0;34m\u001b[0m\u001b[0m\n",
      "\u001b[0;31mKeyboardInterrupt\u001b[0m: "
     ]
    }
   ],
   "source": [
    "# Train model\n",
    "def train(epochs, model, epoch_num=0, losses_tuple=([], []), window_losses_tuple=([], []), val_losses_tuple=([], [])):\n",
    "    device = torch.device('cuda' if torch.cuda.is_available() else 'cpu')\n",
    "    model = model.to(device)\n",
    "    criterion = nn.MSELoss()\n",
    "    optimizer = optim.Adam(model.parameters(), lr=0.001)\n",
    "    total_batch_index = 0\n",
    "    \n",
    "    loss_indices = losses_tuple[0]\n",
    "    losses = losses_tuple[1]\n",
    "    window_loss_indices = window_losses_tuple[0]\n",
    "    window_losses = window_losses_tuple[1]\n",
    "    val_loss_indices = val_losses_tuple[0]\n",
    "    val_losses = val_losses_tuple[1]\n",
    "\n",
    "    # epochs_bar = tqdm(range(epochs), leave=False, position=epoch_num)\n",
    "\n",
    "    for epoch in range(epoch_num, epochs):\n",
    "        \n",
    "        # Reset output for current epoch\n",
    "        clear_output(wait=True)\n",
    "        epochs_bar = tqdm(range(epochs), leave=False, initial=epoch) # Reset epochs bar\n",
    "        try:\n",
    "            epochs_bar.set_description(f'Epoch {epoch + 1}, Train Loss: {f\"{recent_avg_loss:.3f}\"}, Val Loss: {f\"{avg_val_batch_loss:.3f}\"}')\n",
    "        except:\n",
    "            epochs_bar.set_description(f'Epoch {epoch_num + 1}, Train Loss: N/A, Val Loss: N/A')\n",
    "\n",
    "        batches_bar = tqdm(train_dataloader, leave=False)\n",
    "        plot_loss(losses=(('Window Loss', window_losses), ('Val Loss', val_losses)),\n",
    "                   loss_indices=(window_loss_indices, val_loss_indices)) # Plot current losses\n",
    "\n",
    "        for batch in train_dataloader:\n",
    "            x, y = batch\n",
    "            x = x.to(device)\n",
    "            y = y.to(device)\n",
    "            optimizer.zero_grad()\n",
    "            y_pred = model(x)\n",
    "            loss = criterion(y_pred, y)\n",
    "            loss.backward()\n",
    "            optimizer.step()\n",
    "            loss_indices.append(total_batch_index)\n",
    "            losses.append(loss.item())\n",
    "            batches_bar.update()\n",
    "            total_batch_index += 1\n",
    "\n",
    "            # Update batch bar periodically during batch\n",
    "            if batches_bar.n % UPDATE_STATUS_EVERY == 0:\n",
    "                recent_avg_loss = sum(losses[-UPDATE_STATUS_EVERY:])/UPDATE_STATUS_EVERY\n",
    "                window_loss_indices.append(total_batch_index)\n",
    "                window_losses.append(recent_avg_loss)\n",
    "                batches_bar.set_description(f'Epoch {epoch + 1}, Train Loss: {f\"{recent_avg_loss:.3f}\"}')\n",
    "\n",
    "        # Validate every epoch\n",
    "        val_batches_bar = tqdm(test_dataloader, leave=False)\n",
    "        val_batches_bar.set_description(f'Validating...')\n",
    "        val_batches_bar.update()\n",
    "        val_batch_losses = []\n",
    "        model.eval()\n",
    "        for batch in test_dataloader:\n",
    "            x, y = batch\n",
    "            x = x.to(device)\n",
    "            y = y.to(device)\n",
    "            y_pred = model(x)\n",
    "            loss = criterion(y_pred, y)\n",
    "            val_batch_losses.append(loss.item())\n",
    "            val_batches_bar.update()\n",
    "        avg_val_batch_loss = sum(val_batch_losses)/len(val_batch_losses)\n",
    "        val_loss_indices.append(total_batch_index)\n",
    "        val_losses.append(avg_val_batch_loss)\n",
    "        model.train()\n",
    "\n",
    "        # Save model and losses\n",
    "        stat_dict = {'epoch_num': epoch + 1,'losses': (loss_indices, losses), 'window_losses': (window_loss_indices, window_losses), 'val_losses': (val_loss_indices, val_losses)}\n",
    "        cache_session(model ,stat_dict=stat_dict)\n",
    "\n",
    "        # Update epoch bar\n",
    "        epochs_bar.update()\n",
    "\n",
    "model = WeatherModel()\n",
    "# model = Res50Model()\n",
    "EPOCHS = 100\n",
    "do_restore = True\n",
    "if do_restore:\n",
    "    train(EPOCHS, *restore_session(model))\n",
    "else:\n",
    "    print('Initialized new model and new session')\n",
    "    train(EPOCHS, model)"
   ]
  },
  {
   "cell_type": "code",
   "execution_count": 11,
   "metadata": {},
   "outputs": [],
   "source": [
    "def validate_model(model, epoch_num=0, losses_tuple=([], []), window_losses_tuple=([], []), val_losses_tuple=([], [])):\n",
    "    device = torch.device('cuda' if torch.cuda.is_available() else 'cpu')\n",
    "    criterion = nn.MSELoss()\n",
    "    val_batches_bar = tqdm(test_dataloader, leave=False)\n",
    "    val_batches_bar.set_description(f'Validating...')\n",
    "    val_batches_bar.update()\n",
    "    val_batch_losses = []\n",
    "    corrects = 0\n",
    "    val_loader_data_count = len(test_dataloader.dataset)*test_dataloader.batch_size*3\n",
    "    model.eval()\n",
    "    for batch in test_dataloader:\n",
    "        x, y = batch\n",
    "        x = x.to(device)\n",
    "        y = y.to(device)\n",
    "        y_pred = model(x)\n",
    "\n",
    "        # Calculate loss\n",
    "        loss = criterion(y_pred, y)\n",
    "\n",
    "        # Calculate accuracy\n",
    "        descrete_pred = torch.round(y_pred).clamp(1, 5)\n",
    "        correct = torch.sum(descrete_pred == y)\n",
    "        corrects += correct.item()\n",
    "\n",
    "        val_batch_losses.append(loss.item())\n",
    "        val_batches_bar.update()\n",
    "    val_batches_bar.update()\n",
    "    avg_val_batch_loss = sum(val_batch_losses)/len(val_batch_losses)\n",
    "    avg_accuracy = corrects/val_loader_data_count\n",
    "    model.train()\n",
    "\n",
    "    loss_indices = losses_tuple[0]\n",
    "    losses = losses_tuple[1]\n",
    "    window_loss_indices = window_losses_tuple[0]\n",
    "    window_losses = window_losses_tuple[1]\n",
    "    val_loss_indices = val_losses_tuple[0]\n",
    "    val_losses = val_losses_tuple[1]\n",
    "    plot_loss(losses=(('Window Loss', window_losses), ('Val Loss', val_losses)),\n",
    "                   loss_indices=(window_loss_indices, val_loss_indices))\n",
    "    \n",
    "    print(f'Val Loss: {f\"{avg_val_batch_loss:.4}\"}')\n",
    "    print(f'Accuracy: {f\"{avg_accuracy:.4}\"}')"
   ]
  },
  {
   "cell_type": "code",
   "execution_count": 12,
   "metadata": {},
   "outputs": [
    {
     "name": "stdout",
     "output_type": "stream",
     "text": [
      "Restored session from cache at epoch 85\n"
     ]
    },
    {
     "data": {
      "application/vnd.jupyter.widget-view+json": {
       "model_id": "5bd0939be03140e1a1758a5a65c34c65",
       "version_major": 2,
       "version_minor": 0
      },
      "text/plain": [
       "  0%|          | 0/2728 [00:00<?, ?it/s]"
      ]
     },
     "metadata": {},
     "output_type": "display_data"
    },
    {
     "data": {
      "image/png": "[encoded data removed]",
      "text/plain": [
       "<Figure size 640x480 with 1 Axes>"
      ]
     },
     "metadata": {},
     "output_type": "display_data"
    },
    {
     "name": "stdout",
     "output_type": "stream",
     "text": [
      "Val Loss: 0.8974\n",
      "Accuracy: 0.1092\n"
     ]
    }
   ],
   "source": [
    "model = WeatherModel()\n",
    "validate_model(*restore_session(model))"
   ]
  }
 ],
 "metadata": {
  "kernelspec": {
   "display_name": "cs474",
   "language": "python",
   "name": "python3"
  },
  "language_info": {
   "codemirror_mode": {
    "name": "ipython",
    "version": 3
   },
   "file_extension": ".py",
   "mimetype": "text/x-python",
   "name": "python",
   "nbconvert_exporter": "python",
   "pygments_lexer": "ipython3",
   "version": "3.7.16"
  }
 },
 "nbformat": 4,
 "nbformat_minor": 2
}
