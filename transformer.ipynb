{
 "cells": [
  {
   "cell_type": "code",
   "execution_count": 6,
   "metadata": {},
   "outputs": [],
   "source": [
    "import torch\n",
    "import torch.nn as nn\n",
    "import torch.optim as optim\n",
    "from torch.utils.data import Dataset, DataLoader\n",
    "import numpy as np\n",
    "from tqdm.notebook import tqdm as tqdm\n",
    "import pdb\n",
    "import pandas as pd"
   ]
  },
  {
   "cell_type": "code",
   "execution_count": 34,
   "metadata": {},
   "outputs": [],
   "source": [
    "class WeatherDataset(Dataset):\n",
    "    def __init__(self, csv_file):\n",
    "        self.data = pd.read_csv(csv_file)\n",
    "\n",
    "    def __len__(self):\n",
    "        return len(self.data)\n",
    "\n",
    "    def __getitem__(self, i):\n",
    "        # Return row as tensor\n",
    "        x = torch.tensor(self.data.iloc[i][1:69])\n",
    "        y = torch.tensor(self.data.iloc[i][69:72])\n",
    "        return x, y\n",
    "        # return torch.tensor(self.data.iloc[i])"
   ]
  },
  {
   "cell_type": "code",
   "execution_count": 24,
   "metadata": {},
   "outputs": [
    {
     "name": "stdout",
     "output_type": "stream",
     "text": [
      "72\n",
      "torch.Size([71])\n"
     ]
    }
   ],
   "source": [
    "# Test data import\n",
    "data = pd.read_csv('Inputs-Targets.csv')\n",
    "d = data.iloc[2]\n",
    "t = torch.tensor(d[1:])\n",
    "print(d.size)\n",
    "print(t.shape)"
   ]
  },
  {
   "cell_type": "code",
   "execution_count": 35,
   "metadata": {},
   "outputs": [
    {
     "name": "stdout",
     "output_type": "stream",
     "text": [
      "torch.Size([4, 68])\n",
      "tensor([[4, 4, 5],\n",
      "        [1, 1, 2],\n",
      "        [1, 3, 4],\n",
      "        [1, 3, 5]])\n"
     ]
    }
   ],
   "source": [
    "# Test dataset class\n",
    "data = WeatherDataset('Inputs-Targets.csv')\n",
    "dataloader = DataLoader(data, batch_size=4, shuffle=True)\n",
    "for batch in dataloader:\n",
    "    x, y = batch\n",
    "    print(x.shape)\n",
    "    print(y)\n",
    "    break"
   ]
  },
  {
   "cell_type": "code",
   "execution_count": null,
   "metadata": {},
   "outputs": [],
   "source": []
  }
 ],
 "metadata": {
  "kernelspec": {
   "display_name": "cs474",
   "language": "python",
   "name": "python3"
  },
  "language_info": {
   "codemirror_mode": {
    "name": "ipython",
    "version": 3
   },
   "file_extension": ".py",
   "mimetype": "text/x-python",
   "name": "python",
   "nbconvert_exporter": "python",
   "pygments_lexer": "ipython3",
   "version": "3.7.16"
  }
 },
 "nbformat": 4,
 "nbformat_minor": 2
}
